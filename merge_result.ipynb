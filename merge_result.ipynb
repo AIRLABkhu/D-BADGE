{
 "cells": [
  {
   "cell_type": "markdown",
   "metadata": {},
   "source": [
    "##### CIFAR-100"
   ]
  },
  {
   "cell_type": "code",
   "execution_count": 1,
   "metadata": {},
   "outputs": [
    {
     "name": "stdout",
     "output_type": "stream",
     "text": [
      "cifar-100\n"
     ]
    },
    {
     "data": {
      "text/html": [
       "<div>\n",
       "<style scoped>\n",
       "    .dataframe tbody tr th:only-of-type {\n",
       "        vertical-align: middle;\n",
       "    }\n",
       "\n",
       "    .dataframe tbody tr th {\n",
       "        vertical-align: top;\n",
       "    }\n",
       "\n",
       "    .dataframe thead th {\n",
       "        text-align: right;\n",
       "    }\n",
       "</style>\n",
       "<table border=\"1\" class=\"dataframe\">\n",
       "  <thead>\n",
       "    <tr style=\"text-align: right;\">\n",
       "      <th></th>\n",
       "      <th>ACC</th>\n",
       "      <th>FR</th>\n",
       "    </tr>\n",
       "  </thead>\n",
       "  <tbody>\n",
       "    <tr>\n",
       "      <th>RN18</th>\n",
       "      <td>79.730003</td>\n",
       "      <td>74.010002</td>\n",
       "    </tr>\n",
       "    <tr>\n",
       "      <th>VGG19</th>\n",
       "      <td>76.519997</td>\n",
       "      <td>66.620003</td>\n",
       "    </tr>\n",
       "    <tr>\n",
       "      <th>MBN_v2</th>\n",
       "      <td>72.160004</td>\n",
       "      <td>87.650002</td>\n",
       "    </tr>\n",
       "    <tr>\n",
       "      <th>RNX29</th>\n",
       "      <td>79.769997</td>\n",
       "      <td>70.809998</td>\n",
       "    </tr>\n",
       "  </tbody>\n",
       "</table>\n",
       "</div>"
      ],
      "text/plain": [
       "              ACC         FR\n",
       "RN18    79.730003  74.010002\n",
       "VGG19   76.519997  66.620003\n",
       "MBN_v2  72.160004  87.650002\n",
       "RNX29   79.769997  70.809998"
      ]
     },
     "metadata": {},
     "output_type": "display_data"
    }
   ],
   "source": [
    "''' cifar-100 '''\n",
    "\n",
    "import torch\n",
    "import os\n",
    "import pandas as pd\n",
    "from IPython import display\n",
    "\n",
    "archs = ['resnet18', 'vgg19', 'mobilenet_v2', 'resnext29_2x64d']\n",
    "arch_names = ['RN18', 'VGG19', 'MBN_v2', 'RNX29']\n",
    "\n",
    "table = []\n",
    "budgets = [7.0, 10.0, 13.0]\n",
    "for arch in archs:\n",
    "    dirpath = f'./log/cifar100_{arch}_1.0'\n",
    "    acc = torch.load(os.path.join(dirpath, 'ckpt.pth'))['acc']\n",
    "    fr = torch.load(os.path.join(dirpath, 'baseline_00', 'ckpt.pth'))['fr']\n",
    "    table.extend([acc, fr])\n",
    "table = torch.tensor(table).view(len(archs), -1)\n",
    "\n",
    "print('cifar-100')\n",
    "table = pd.DataFrame(table, columns=['ACC', 'FR'], index=arch_names)\n",
    "display.display(table)"
   ]
  },
  {
   "cell_type": "markdown",
   "metadata": {},
   "source": [
    "##### SPSA_MNIST_BUDGET"
   ]
  },
  {
   "cell_type": "code",
   "execution_count": 2,
   "metadata": {},
   "outputs": [
    {
     "name": "stdout",
     "output_type": "stream",
     "text": [
      "spsa_mnist_budget.sh\n"
     ]
    },
    {
     "data": {
      "text/html": [
       "<div>\n",
       "<style scoped>\n",
       "    .dataframe tbody tr th:only-of-type {\n",
       "        vertical-align: middle;\n",
       "    }\n",
       "\n",
       "    .dataframe tbody tr th {\n",
       "        vertical-align: top;\n",
       "    }\n",
       "\n",
       "    .dataframe thead th {\n",
       "        text-align: right;\n",
       "    }\n",
       "</style>\n",
       "<table border=\"1\" class=\"dataframe\">\n",
       "  <thead>\n",
       "    <tr style=\"text-align: right;\">\n",
       "      <th></th>\n",
       "      <th>0</th>\n",
       "      <th>1</th>\n",
       "      <th>2</th>\n",
       "      <th>3</th>\n",
       "      <th>4</th>\n",
       "    </tr>\n",
       "  </thead>\n",
       "  <tbody>\n",
       "    <tr>\n",
       "      <th>Budget</th>\n",
       "      <td>10.00</td>\n",
       "      <td>33.42</td>\n",
       "      <td>56.84</td>\n",
       "      <td>75.57</td>\n",
       "      <td>99.00</td>\n",
       "    </tr>\n",
       "    <tr>\n",
       "      <th>FR (%)</th>\n",
       "      <td>0.44</td>\n",
       "      <td>12.61</td>\n",
       "      <td>51.11</td>\n",
       "      <td>63.73</td>\n",
       "      <td>87.51</td>\n",
       "    </tr>\n",
       "  </tbody>\n",
       "</table>\n",
       "</div>"
      ],
      "text/plain": [
       "            0      1      2      3      4\n",
       "Budget  10.00  33.42  56.84  75.57  99.00\n",
       "FR (%)   0.44  12.61  51.11  63.73  87.51"
      ]
     },
     "metadata": {},
     "output_type": "display_data"
    },
    {
     "data": {
      "image/png": "[encoded data removed]",
      "text/plain": [
       "<Figure size 300x200 with 1 Axes>"
      ]
     },
     "metadata": {},
     "output_type": "display_data"
    }
   ],
   "source": [
    "''' spsa_mnist_budget.sh '''\n",
    "\n",
    "import torch\n",
    "import os\n",
    "import pandas as pd\n",
    "import matplotlib.pyplot as plt\n",
    "from IPython import display\n",
    "\n",
    "exproot = f'./log/mnist_toy_1.0/budgets'\n",
    "budgets = sorted(os.listdir(exproot))\n",
    "filenames = [os.path.join(exproot, b, 'ckpt.pth') for b in budgets]\n",
    "\n",
    "budgets = list(map(float, budgets))\n",
    "fr = [torch.load(fn)['fr'] for fn in filenames]\n",
    "\n",
    "table = pd.DataFrame((budgets, fr), index=['Budget', 'FR (%)'])\n",
    "\n",
    "print('spsa_mnist_budget.sh')\n",
    "display.display(table)\n",
    "\n",
    "plt.figure(figsize=(3, 2))\n",
    "plt.plot(budgets, fr)\n",
    "plt.tight_layout(); plt.show()"
   ]
  },
  {
   "cell_type": "markdown",
   "metadata": {},
   "source": [
    "##### SPSA_BATCHSIZE_BUDGET"
   ]
  },
  {
   "cell_type": "code",
   "execution_count": 3,
   "metadata": {},
   "outputs": [
    {
     "name": "stdout",
     "output_type": "stream",
     "text": [
      "spsa_batchsize_budget.sh\n"
     ]
    },
    {
     "data": {
      "text/html": [
       "<div>\n",
       "<style scoped>\n",
       "    .dataframe tbody tr th:only-of-type {\n",
       "        vertical-align: middle;\n",
       "    }\n",
       "\n",
       "    .dataframe tbody tr th {\n",
       "        vertical-align: top;\n",
       "    }\n",
       "\n",
       "    .dataframe thead th {\n",
       "        text-align: right;\n",
       "    }\n",
       "</style>\n",
       "<table border=\"1\" class=\"dataframe\">\n",
       "  <thead>\n",
       "    <tr style=\"text-align: right;\">\n",
       "      <th></th>\n",
       "      <th>Batch Size</th>\n",
       "      <th>Epochs</th>\n",
       "      <th>FR (%)</th>\n",
       "      <th>Time (s)</th>\n",
       "      <th># Updates</th>\n",
       "    </tr>\n",
       "  </thead>\n",
       "  <tbody>\n",
       "    <tr>\n",
       "      <th>0</th>\n",
       "      <td>1</td>\n",
       "      <td>4</td>\n",
       "      <td>21.03</td>\n",
       "      <td>5131.373510</td>\n",
       "      <td>200000</td>\n",
       "    </tr>\n",
       "    <tr>\n",
       "      <th>1</th>\n",
       "      <td>32</td>\n",
       "      <td>128</td>\n",
       "      <td>83.39</td>\n",
       "      <td>5318.416736</td>\n",
       "      <td>199936</td>\n",
       "    </tr>\n",
       "    <tr>\n",
       "      <th>2</th>\n",
       "      <td>64</td>\n",
       "      <td>256</td>\n",
       "      <td>86.97</td>\n",
       "      <td>5608.165528</td>\n",
       "      <td>199936</td>\n",
       "    </tr>\n",
       "    <tr>\n",
       "      <th>3</th>\n",
       "      <td>128</td>\n",
       "      <td>512</td>\n",
       "      <td>85.99</td>\n",
       "      <td>4929.884037</td>\n",
       "      <td>199680</td>\n",
       "    </tr>\n",
       "    <tr>\n",
       "      <th>4</th>\n",
       "      <td>256</td>\n",
       "      <td>1025</td>\n",
       "      <td>87.71</td>\n",
       "      <td>11210.457494</td>\n",
       "      <td>199875</td>\n",
       "    </tr>\n",
       "    <tr>\n",
       "      <th>5</th>\n",
       "      <td>512</td>\n",
       "      <td>2061</td>\n",
       "      <td>87.40</td>\n",
       "      <td>22247.630779</td>\n",
       "      <td>199917</td>\n",
       "    </tr>\n",
       "  </tbody>\n",
       "</table>\n",
       "</div>"
      ],
      "text/plain": [
       "   Batch Size  Epochs  FR (%)      Time (s)  # Updates\n",
       "0           1       4   21.03   5131.373510     200000\n",
       "1          32     128   83.39   5318.416736     199936\n",
       "2          64     256   86.97   5608.165528     199936\n",
       "3         128     512   85.99   4929.884037     199680\n",
       "4         256    1025   87.71  11210.457494     199875\n",
       "5         512    2061   87.40  22247.630779     199917"
      ]
     },
     "metadata": {},
     "output_type": "display_data"
    },
    {
     "data": {
      "application/vnd.jupyter.widget-view+json": {
       "model_id": "ae71e48f613a4102983710effb0933ce",
       "version_major": 2,
       "version_minor": 0
      },
      "text/plain": [
       "  0%|          | 0/6 [00:00<?, ?it/s]"
      ]
     },
     "metadata": {},
     "output_type": "display_data"
    },
    {
     "data": {
      "image/png": "[encoded data removed]",
      "text/plain": [
       "<Figure size 640x480 with 1 Axes>"
      ]
     },
     "metadata": {},
     "output_type": "display_data"
    }
   ],
   "source": [
    "''' spsa_batchsize_budget.sh '''\n",
    "\n",
    "import torch\n",
    "import os\n",
    "import pandas as pd\n",
    "import matplotlib.pyplot as plt\n",
    "from IPython import display\n",
    "from tqdm.auto import tqdm\n",
    "\n",
    "\n",
    "def lerp(t: torch.Tensor, size: int) -> torch.Tensor:\n",
    "    indices = torch.linspace(0, t.size(0) - 1, steps=size)\n",
    "    lower_indices = indices.floor().long()\n",
    "    upper_indices = torch.clamp(indices.ceil().long(), max=t.size(0) - 1)\n",
    "\n",
    "    lower_values = t[lower_indices]\n",
    "    upper_values = t[upper_indices]\n",
    "    \n",
    "    weights = indices - lower_indices.float()    \n",
    "    interpolated_values = lower_values + weights * (upper_values - lower_values)\n",
    "    \n",
    "    return interpolated_values\n",
    "\n",
    "\n",
    "exproot = f'./log/cifar10_resnet18_1.0/batch_time'\n",
    "batch_size = sorted(os.listdir(exproot))\n",
    "filenames = [os.path.join(exproot, b, 'ckpt.pth') for b in batch_size]\n",
    "ckpts = [torch.load(fn) for fn in filenames]\n",
    "get_fn = lambda key: [ckpt[key] for ckpt in ckpts]\n",
    "\n",
    "batch_size = list(map(int, batch_size))\n",
    "epochs = [ckpt['args']['epochs'] for ckpt in ckpts]\n",
    "fr = [ckpt['fr'] for ckpt in ckpts]\n",
    "time = [ckpt['time'] for ckpt in ckpts]\n",
    "num_updates = [200000, 199936, 199936, 199680, 199875, 199917]\n",
    "\n",
    "print('spsa_batchsize_budget.sh')\n",
    "table = pd.DataFrame(zip(batch_size, epochs, fr, time, num_updates),\n",
    "                     columns=['Batch Size', 'Epochs', 'FR (%)', 'Time (s)', '# Updates'])\n",
    "display.display(table)\n",
    "\n",
    "fr_lists = [torch.tensor(ckpt['fr_list']) for ckpt in ckpts]\n",
    "for ckpt, num_udt in zip(tqdm(ckpts, leave=False), num_updates):\n",
    "    fr_list = torch.tensor(ckpt['fr_list'])\n",
    "    fr_list = lerp(fr_list, size=num_udt)\n",
    "    plt.plot(fr_list)\n",
    "plt.legend(batch_size)\n",
    "plt.xlabel('# updates')\n",
    "plt.ylabel('ASR (%)')\n",
    "plt.show()"
   ]
  },
  {
   "cell_type": "markdown",
   "metadata": {},
   "source": [
    "##### SPSA_CIFAR10_BUDGET"
   ]
  },
  {
   "cell_type": "code",
   "execution_count": 88,
   "metadata": {},
   "outputs": [
    {
     "name": "stdout",
     "output_type": "stream",
     "text": [
      "spsa_cifar10_budget.sh\n"
     ]
    },
    {
     "data": {
      "text/html": [
       "<div>\n",
       "<style scoped>\n",
       "    .dataframe tbody tr th:only-of-type {\n",
       "        vertical-align: middle;\n",
       "    }\n",
       "\n",
       "    .dataframe tbody tr th {\n",
       "        vertical-align: top;\n",
       "    }\n",
       "\n",
       "    .dataframe thead th {\n",
       "        text-align: right;\n",
       "    }\n",
       "</style>\n",
       "<table border=\"1\" class=\"dataframe\">\n",
       "  <thead>\n",
       "    <tr style=\"text-align: right;\">\n",
       "      <th></th>\n",
       "      <th>resnet18</th>\n",
       "      <th>resnet20</th>\n",
       "      <th>vgg19</th>\n",
       "      <th>mobilenet_v2</th>\n",
       "      <th>resnext29_2x64d</th>\n",
       "    </tr>\n",
       "  </thead>\n",
       "  <tbody>\n",
       "    <tr>\n",
       "      <th>7.0</th>\n",
       "      <td>82.27</td>\n",
       "      <td>72.82</td>\n",
       "      <td>38.63</td>\n",
       "      <td>84.95</td>\n",
       "      <td>86.58</td>\n",
       "    </tr>\n",
       "    <tr>\n",
       "      <th>10.0</th>\n",
       "      <td>86.96</td>\n",
       "      <td>85.51</td>\n",
       "      <td>68.94</td>\n",
       "      <td>88.49</td>\n",
       "      <td>89.03</td>\n",
       "    </tr>\n",
       "    <tr>\n",
       "      <th>13.0</th>\n",
       "      <td>88.43</td>\n",
       "      <td>87.81</td>\n",
       "      <td>84.77</td>\n",
       "      <td>89.60</td>\n",
       "      <td>90.87</td>\n",
       "    </tr>\n",
       "  </tbody>\n",
       "</table>\n",
       "</div>"
      ],
      "text/plain": [
       "     resnet18 resnet20  vgg19 mobilenet_v2 resnext29_2x64d\n",
       "7.0     82.27    72.82  38.63        84.95           86.58\n",
       "10.0    86.96    85.51  68.94        88.49           89.03\n",
       "13.0    88.43    87.81  84.77        89.60           90.87"
      ]
     },
     "metadata": {},
     "output_type": "display_data"
    }
   ],
   "source": [
    "''' spsa_cifar10_budget.sh '''\n",
    "\n",
    "import torch\n",
    "import os\n",
    "import pandas as pd\n",
    "from IPython import display\n",
    "\n",
    "archs = ['resnet18', 'resnet20', 'vgg19', 'mobilenet_v2', 'resnext29_2x64d']\n",
    "archdir_list = [f'./log/cifar10_{arch}_1.0/spsa_budget' for arch in archs]\n",
    "\n",
    "table = []\n",
    "budgets = [7.0, 10.0, 13.0]\n",
    "for archdir in archdir_list:\n",
    "    for budget in budgets:\n",
    "        filename = os.path.join(archdir, f'{budget:0>4}', 'ckpt.pth')\n",
    "        table.append(torch.load(filename)['fr'])\n",
    "table = torch.tensor(table).view(len(archs), -1).T\n",
    "\n",
    "print('spsa_cifar10_budget.sh')\n",
    "table = pd.DataFrame(table, columns=archs, index=budgets)\n",
    "table = table.applymap(lambda x: f'{x:.2f}')\n",
    "display.display(table)"
   ]
  },
  {
   "cell_type": "markdown",
   "metadata": {},
   "source": [
    "##### SPSA_TARGETED"
   ]
  },
  {
   "cell_type": "code",
   "execution_count": 5,
   "metadata": {},
   "outputs": [
    {
     "name": "stdout",
     "output_type": "stream",
     "text": [
      "spsa_targeted.sh\n"
     ]
    },
    {
     "data": {
      "text/html": [
       "<div>\n",
       "<style scoped>\n",
       "    .dataframe tbody tr th:only-of-type {\n",
       "        vertical-align: middle;\n",
       "    }\n",
       "\n",
       "    .dataframe tbody tr th {\n",
       "        vertical-align: top;\n",
       "    }\n",
       "\n",
       "    .dataframe thead th {\n",
       "        text-align: right;\n",
       "    }\n",
       "</style>\n",
       "<table border=\"1\" class=\"dataframe\">\n",
       "  <thead>\n",
       "    <tr style=\"text-align: right;\">\n",
       "      <th></th>\n",
       "      <th>resnet18</th>\n",
       "      <th>resnet20</th>\n",
       "      <th>vgg19</th>\n",
       "      <th>mobilenet_v2</th>\n",
       "      <th>resnext29_2x64d</th>\n",
       "    </tr>\n",
       "  </thead>\n",
       "  <tbody>\n",
       "    <tr>\n",
       "      <th>airplane</th>\n",
       "      <td>85.940002</td>\n",
       "      <td>88.720001</td>\n",
       "      <td>93.930000</td>\n",
       "      <td>97.449997</td>\n",
       "      <td>81.989998</td>\n",
       "    </tr>\n",
       "    <tr>\n",
       "      <th>automobile</th>\n",
       "      <td>72.989998</td>\n",
       "      <td>86.910004</td>\n",
       "      <td>67.550003</td>\n",
       "      <td>87.970001</td>\n",
       "      <td>86.360001</td>\n",
       "    </tr>\n",
       "    <tr>\n",
       "      <th>bird</th>\n",
       "      <td>87.660004</td>\n",
       "      <td>56.209999</td>\n",
       "      <td>95.029999</td>\n",
       "      <td>94.809998</td>\n",
       "      <td>90.410004</td>\n",
       "    </tr>\n",
       "    <tr>\n",
       "      <th>cat</th>\n",
       "      <td>84.570000</td>\n",
       "      <td>95.000000</td>\n",
       "      <td>86.879997</td>\n",
       "      <td>86.279999</td>\n",
       "      <td>94.510002</td>\n",
       "    </tr>\n",
       "    <tr>\n",
       "      <th>deer</th>\n",
       "      <td>10.020000</td>\n",
       "      <td>10.000000</td>\n",
       "      <td>81.650002</td>\n",
       "      <td>77.720001</td>\n",
       "      <td>77.440002</td>\n",
       "    </tr>\n",
       "    <tr>\n",
       "      <th>dog</th>\n",
       "      <td>56.080002</td>\n",
       "      <td>83.709999</td>\n",
       "      <td>9.730000</td>\n",
       "      <td>67.410004</td>\n",
       "      <td>74.750000</td>\n",
       "    </tr>\n",
       "    <tr>\n",
       "      <th>frog</th>\n",
       "      <td>91.629997</td>\n",
       "      <td>86.349998</td>\n",
       "      <td>95.599998</td>\n",
       "      <td>97.750000</td>\n",
       "      <td>91.459999</td>\n",
       "    </tr>\n",
       "    <tr>\n",
       "      <th>horse</th>\n",
       "      <td>79.779999</td>\n",
       "      <td>97.519997</td>\n",
       "      <td>88.629997</td>\n",
       "      <td>91.650002</td>\n",
       "      <td>92.410004</td>\n",
       "    </tr>\n",
       "    <tr>\n",
       "      <th>ship</th>\n",
       "      <td>80.730003</td>\n",
       "      <td>10.030000</td>\n",
       "      <td>98.339996</td>\n",
       "      <td>97.220001</td>\n",
       "      <td>88.699997</td>\n",
       "    </tr>\n",
       "    <tr>\n",
       "      <th>truck</th>\n",
       "      <td>50.880001</td>\n",
       "      <td>91.959999</td>\n",
       "      <td>73.019997</td>\n",
       "      <td>90.690002</td>\n",
       "      <td>82.550003</td>\n",
       "    </tr>\n",
       "    <tr>\n",
       "      <th>mean</th>\n",
       "      <td>70.028000</td>\n",
       "      <td>70.641006</td>\n",
       "      <td>79.035995</td>\n",
       "      <td>88.895004</td>\n",
       "      <td>86.057999</td>\n",
       "    </tr>\n",
       "  </tbody>\n",
       "</table>\n",
       "</div>"
      ],
      "text/plain": [
       "             resnet18   resnet20      vgg19  mobilenet_v2  resnext29_2x64d\n",
       "airplane    85.940002  88.720001  93.930000     97.449997        81.989998\n",
       "automobile  72.989998  86.910004  67.550003     87.970001        86.360001\n",
       "bird        87.660004  56.209999  95.029999     94.809998        90.410004\n",
       "cat         84.570000  95.000000  86.879997     86.279999        94.510002\n",
       "deer        10.020000  10.000000  81.650002     77.720001        77.440002\n",
       "dog         56.080002  83.709999   9.730000     67.410004        74.750000\n",
       "frog        91.629997  86.349998  95.599998     97.750000        91.459999\n",
       "horse       79.779999  97.519997  88.629997     91.650002        92.410004\n",
       "ship        80.730003  10.030000  98.339996     97.220001        88.699997\n",
       "truck       50.880001  91.959999  73.019997     90.690002        82.550003\n",
       "mean        70.028000  70.641006  79.035995     88.895004        86.057999"
      ]
     },
     "metadata": {},
     "output_type": "display_data"
    }
   ],
   "source": [
    "''' spsa_targeted.sh '''\n",
    "\n",
    "import torch\n",
    "from torchvision.datasets import CIFAR10\n",
    "import os\n",
    "import pandas as pd\n",
    "from IPython import display\n",
    "\n",
    "archs = ['resnet18', 'resnet20', 'vgg19', 'mobilenet_v2', 'resnext29_2x64d']\n",
    "categories = CIFAR10('./data').classes\n",
    "\n",
    "table = []\n",
    "archdir_list = [f'./log/cifar10_{arch}_1.0/spsa_targeted' for arch in archs]\n",
    "for archdir in archdir_list:\n",
    "    for i in range(len(categories)):\n",
    "        filename = os.path.join(archdir, f'{i:02d}', 'ckpt.pth')\n",
    "        table.append(torch.load(filename)['fr'])\n",
    "table = torch.tensor(table).view(-1, len(archs))\n",
    "table = torch.cat([table, table.mean(dim=0, keepdim=True)], dim=0)\n",
    "\n",
    "print('spsa_targeted.sh')\n",
    "table = pd.DataFrame(table, columns=archs, index=categories+['mean'])\n",
    "display.display(table)"
   ]
  },
  {
   "cell_type": "markdown",
   "metadata": {},
   "source": [
    "##### SPSA_LOSS"
   ]
  },
  {
   "cell_type": "code",
   "execution_count": 214,
   "metadata": {},
   "outputs": [
    {
     "name": "stdout",
     "output_type": "stream",
     "text": [
      "spsa_loss.sh\n"
     ]
    },
    {
     "data": {
      "text/html": [
       "<div>\n",
       "<style scoped>\n",
       "    .dataframe tbody tr th:only-of-type {\n",
       "        vertical-align: middle;\n",
       "    }\n",
       "\n",
       "    .dataframe tbody tr th {\n",
       "        vertical-align: top;\n",
       "    }\n",
       "\n",
       "    .dataframe thead th {\n",
       "        text-align: right;\n",
       "    }\n",
       "</style>\n",
       "<table border=\"1\" class=\"dataframe\">\n",
       "  <thead>\n",
       "    <tr style=\"text-align: right;\">\n",
       "      <th></th>\n",
       "      <th>ACC</th>\n",
       "      <th>KLD</th>\n",
       "      <th>CE</th>\n",
       "      <th>EMD</th>\n",
       "    </tr>\n",
       "  </thead>\n",
       "  <tbody>\n",
       "    <tr>\n",
       "      <th>SB</th>\n",
       "      <td>72.96 ± 2.99</td>\n",
       "      <td>87.69 ± 0.62</td>\n",
       "      <td>88.17 ± 0.45</td>\n",
       "      <td>73.42 ± 1.72</td>\n",
       "    </tr>\n",
       "    <tr>\n",
       "      <th>DB</th>\n",
       "      <td>87.22 ± 0.29</td>\n",
       "      <td>86.72 ± 0.32</td>\n",
       "      <td>86.74 ± 0.64</td>\n",
       "      <td>2.67 ± 0.11</td>\n",
       "    </tr>\n",
       "  </tbody>\n",
       "</table>\n",
       "</div>"
      ],
      "text/plain": [
       "             ACC           KLD            CE           EMD\n",
       "SB  72.96 ± 2.99  87.69 ± 0.62  88.17 ± 0.45  73.42 ± 1.72\n",
       "DB  87.22 ± 0.29  86.72 ± 0.32  86.74 ± 0.64   2.67 ± 0.11"
      ]
     },
     "metadata": {},
     "output_type": "display_data"
    },
    {
     "name": "stdout",
     "output_type": "stream",
     "text": [
      "72.96 $\\pm$ 2.99 & 87.69 $\\pm$ 0.62 & 88.17 $\\pm$ 0.45 & 73.42 $\\pm$ 1.72 \\\\\n",
      "87.22 $\\pm$ 0.29 & 86.72 $\\pm$ 0.32 & 86.74 $\\pm$ 0.64 & 2.67 $\\pm$ 0.11 \\\\\n"
     ]
    }
   ],
   "source": [
    "''' spsa_loss.sh '''\n",
    "\n",
    "import torch\n",
    "from torchvision.datasets import CIFAR10\n",
    "from glob import glob\n",
    "import os\n",
    "import pandas as pd\n",
    "from IPython import display\n",
    "\n",
    "logits = ['sb', 'db']\n",
    "losses = ['acc', 'kld', 'ce', 'emd']\n",
    "\n",
    "states = [os.path.join(logit, loss) for logit in logits for loss in losses]\n",
    "categories = CIFAR10('./data').classes\n",
    "\n",
    "mean_table = []\n",
    "std_table = []\n",
    "for state in states:\n",
    "    filenames = glob(f'./log/cifar10_resnet18_1.0/loss/{state}_*/ckpt.pth')\n",
    "    fr = torch.tensor([torch.load(fn)['fr'] for fn in filenames])\n",
    "    mean_table.append(fr.mean())\n",
    "    std_table.append(fr.std())\n",
    "mean_table = torch.stack(mean_table).view(len(logits), -1).tolist()\n",
    "std_table = torch.stack(std_table).view(len(logits), -1).tolist()\n",
    "table = []\n",
    "\n",
    "for mean_row, std_row in zip(mean_table, std_table):\n",
    "    row = [f'{mean:.2f} ± {std:.2f}' for mean, std in zip(mean_row, std_row)]\n",
    "    table.append(row)\n",
    "\n",
    "print('spsa_loss.sh')\n",
    "df = pd.DataFrame(table, columns=map(str.upper, losses), index=map(str.upper, logits))\n",
    "display.display(df)\n",
    "\n",
    "for row in table:\n",
    "    print(' & '.join(row).replace('±', '$\\pm$'), r'\\\\')"
   ]
  },
  {
   "cell_type": "markdown",
   "metadata": {},
   "source": [
    "##### Visualize Perturbations (CIFAR-10)"
   ]
  },
  {
   "cell_type": "code",
   "execution_count": 193,
   "metadata": {},
   "outputs": [],
   "source": [
    "from pathlib import Path\n",
    "from tqdm.auto import tqdm\n",
    "\n",
    "import matplotlib\n",
    "import matplotlib.pyplot as plt\n",
    "matplotlib.rcParams['font.family'] = 'Times New Roman'\n",
    "matplotlib.rcParams['font.size'] = 18\n",
    "\n",
    "import torch\n",
    "from torch.utils.data import DataLoader\n",
    "from torchvision.transforms import ToTensor\n",
    "from torchvision.transforms.functional import to_pil_image\n",
    "\n",
    "import models, data"
   ]
  },
  {
   "cell_type": "code",
   "execution_count": 212,
   "metadata": {},
   "outputs": [
    {
     "name": "stdout",
     "output_type": "stream",
     "text": [
      "Files already downloaded and verified\n"
     ]
    },
    {
     "data": {
      "application/vnd.jupyter.widget-view+json": {
       "model_id": "39c4f0dcc5b24b42baff44ef9d97149a",
       "version_major": 2,
       "version_minor": 0
      },
      "text/plain": [
       "  0%|          | 0/20 [00:00<?, ?it/s]"
      ]
     },
     "metadata": {},
     "output_type": "display_data"
    }
   ],
   "source": [
    "expdir = Path('./log/cifar10_resnet18_1.0')\n",
    "ckpt = torch.load(expdir.joinpath('ckpt.pth'))\n",
    "net = models.get_model(ckpt['model']).eval().cuda()\n",
    "out = net.load_state_dict(ckpt['net'])\n",
    "\n",
    "dataset = data.get_dataset('cifar10', train=False, transform=ToTensor())\n",
    "loader = DataLoader(dataset, batch_size=512, shuffle=False)\n",
    "ground_truth_list = torch.tensor(dataset.targets)\n",
    "\n",
    "def predict(tag=None):\n",
    "    if tag is None:\n",
    "        uap = torch.zeros(1, 3, 32, 32).cuda()\n",
    "    else:\n",
    "        ckpt = torch.load(expdir.joinpath(tag, 'ckpt.pth'))\n",
    "        fr = ckpt['fr']\n",
    "        print(f'fooling rate={fr:.2f}%')\n",
    "        uap = ckpt['uap'].cuda()\n",
    "        \n",
    "    pred_list = []\n",
    "    for inputs, _ in tqdm(loader):\n",
    "        inputs = inputs.cuda()\n",
    "        inputs_min = torch.amin(inputs, dim=(0, 2, 3), keepdim=True)\n",
    "        inputs_max = torch.amax(inputs, dim=(0, 2, 3), keepdim=True)\n",
    "        inputs = torch.clamp(inputs + uap, min=inputs_min, max=inputs_max)\n",
    "        \n",
    "        outputs = net(inputs)\n",
    "        preds = outputs.argmax(dim=1)\n",
    "        pred_list.append(preds)\n",
    "    pred_list = torch.cat(pred_list).cpu()\n",
    "    return pred_list, uap.cpu()\n",
    "    \n",
    "cln_pred_list, _ = predict()"
   ]
  },
  {
   "cell_type": "code",
   "execution_count": 215,
   "metadata": {},
   "outputs": [
    {
     "name": "stdout",
     "output_type": "stream",
     "text": [
      "fooling rate=85.26%\n"
     ]
    },
    {
     "data": {
      "application/vnd.jupyter.widget-view+json": {
       "model_id": "9e6aca22940543249a7780a030a02f0d",
       "version_major": 2,
       "version_minor": 0
      },
      "text/plain": [
       "  0%|          | 0/20 [00:00<?, ?it/s]"
      ]
     },
     "metadata": {},
     "output_type": "display_data"
    },
    {
     "name": "stdout",
     "output_type": "stream",
     "text": [
      "[2959, 2326, 6381, 883, 3976, 3068]\n"
     ]
    },
    {
     "data": {
      "application/vnd.jupyter.widget-view+json": {
       "model_id": "b3202d45a72548a8821f70b44c74b048",
       "version_major": 2,
       "version_minor": 0
      },
      "text/plain": [
       "  0%|          | 0/6 [00:00<?, ?it/s]"
      ]
     },
     "metadata": {},
     "output_type": "display_data"
    },
    {
     "data": {
      "image/png": "[encoded data removed]",
      "text/plain": [
       "<Figure size 900x450 with 12 Axes>"
      ]
     },
     "metadata": {},
     "output_type": "display_data"
    }
   ],
   "source": [
    "''' Non-targeted '''\n",
    "adv_pred_list, uap = predict('_baselines/00')\n",
    "\n",
    "# cln_good = (cln_pred_list == ground_truth_list).float()\n",
    "# adv_good = (adv_pred_list == ground_truth_list).float()\n",
    "# fool_yes = (cln_pred_list != adv_pred_list).float()\n",
    "\n",
    "# indices1 = torch.nonzero(cln_good * fool_yes * (1-adv_good)).squeeze()\n",
    "# indices2 = torch.nonzero((1-cln_good) * fool_yes * (1-adv_good)).squeeze()\n",
    "\n",
    "# class_map1 = {}\n",
    "# for i in indices1.tolist():\n",
    "#     adv = adv_pred_list[i].item()\n",
    "#     if adv in class_map1:\n",
    "#         class_map1[adv].append(i)\n",
    "#     else:\n",
    "#         class_map1[adv] = [i]\n",
    "# indices1 = torch.tensor([val[randint(0, len(val)-1)] for val in class_map1.values()])\n",
    "\n",
    "# class_map2 = {}\n",
    "# for i in indices2.tolist():\n",
    "#     adv = adv_pred_list[i].item()\n",
    "#     if adv in class_map2:\n",
    "#         class_map2[adv].append(i)\n",
    "#     else:\n",
    "#         class_map2[adv] = [i]\n",
    "# indices2 = torch.tensor([val[randint(0, len(val)-1)] for val in class_map2.values()])\n",
    "\n",
    "# index_class_list1 = list(zip(indices1.tolist(), class_map1.keys()))\n",
    "# index_class_list2 = list(zip(indices2.tolist(), class_map2.keys()))\n",
    "\n",
    "# intersect_class = list(set.intersection(set(class_map1.keys()), set(class_map2.keys())))[0]\n",
    "# indices1 = torch.tensor([item[0] for item in index_class_list1 if item[1] != intersect_class])\n",
    "# indices2 = torch.tensor([item[0] for item in index_class_list2 if item[1] == intersect_class])\n",
    "# indices = torch.cat([indices1, indices2])\n",
    "\n",
    "# num_samples = (8, 1)\n",
    "# indices = torch.cat([indices1[:num_samples[0]], indices2[:num_samples[1]]])\n",
    "\n",
    "indices = torch.tensor([2959, 2326, 6381, 883, 3976, 3068])\n",
    "print(indices.tolist())\n",
    "\n",
    "num_samples = len(indices)\n",
    "indices = indices[torch.randperm(num_samples)]\n",
    "images = torch.stack([dataset[i][0] for i in indices])\n",
    "adv_images = torch.clamp(images + uap, \n",
    "                         images.amin(dim=(0, 2, 3), keepdim=True), \n",
    "                         images.amax(dim=(0, 2, 3), keepdim=True))\n",
    "labels = ground_truth_list[indices].tolist()\n",
    "cln_pred = cln_pred_list[indices].tolist()\n",
    "adv_pred = adv_pred_list[indices].tolist()\n",
    "\n",
    "enumerator = enumerate(zip(tqdm(images), adv_images, labels, cln_pred, adv_pred), start=1)\n",
    "plt.figure(figsize=(num_samples * 1.5, 4.5))\n",
    "for i, (image, adv_image, label, cln, adv) in enumerator:\n",
    "    ax = plt.subplot(2, num_samples, i)\n",
    "    ax.set_title(f'{dataset.classes[label]}\\n{dataset.classes[cln]}')\n",
    "    ax.imshow(to_pil_image(image))\n",
    "    ax.set_axis_off()\n",
    "    \n",
    "    ax = plt.subplot(2, num_samples, num_samples + i)\n",
    "    ax.set_title(dataset.classes[adv])\n",
    "    ax.imshow(to_pil_image(adv_image))\n",
    "    ax.set_axis_off()\n",
    "plt.tight_layout()\n",
    "\n",
    "plt.savefig('vis/cifar10-nontarget.png')\n",
    "plt.savefig('vis/cifar10-nontarget.pdf')\n",
    "plt.show()"
   ]
  },
  {
   "cell_type": "markdown",
   "metadata": {},
   "source": [
    "##### Visualize Perturbations (MNIST)"
   ]
  },
  {
   "cell_type": "code",
   "execution_count": 1,
   "metadata": {},
   "outputs": [],
   "source": [
    "import os\n",
    "from pathlib import Path\n",
    "from tqdm.auto import tqdm\n",
    "\n",
    "import matplotlib\n",
    "import matplotlib.pyplot as plt\n",
    "matplotlib.rcParams['font.family'] = 'Times New Roman'\n",
    "matplotlib.rcParams['font.size'] = 18\n",
    "\n",
    "import torch\n",
    "from torch.utils.data import DataLoader\n",
    "from torchvision.transforms import ToTensor\n",
    "from torchvision.transforms.functional import to_pil_image\n",
    "\n",
    "import models, data"
   ]
  },
  {
   "cell_type": "code",
   "execution_count": 26,
   "metadata": {},
   "outputs": [
    {
     "name": "stdout",
     "output_type": "stream",
     "text": [
      "(gt, pred): (5, 5) (7, 7)\n",
      "['10.00', '33.42', '56.84', '75.57', '99.00']\n"
     ]
    },
    {
     "data": {
      "image/png": "[encoded data removed]",
      "text/plain": [
       "<Figure size 900x450 with 12 Axes>"
      ]
     },
     "metadata": {},
     "output_type": "display_data"
    }
   ],
   "source": [
    "expdir = Path('./log/mnist_toy_1.0')\n",
    "ckpt = torch.load(expdir.joinpath('ckpt.pth'))\n",
    "net = models.get_model(ckpt['model']).eval()\n",
    "out = net.load_state_dict(ckpt['net'])\n",
    "\n",
    "dataset = data.get_dataset('mnist', train=False, transform=ToTensor())\n",
    "sample_indices = [2162, 4102]\n",
    "\n",
    "images, labels = zip(*[dataset[i] for i in sample_indices])\n",
    "\n",
    "def predict(pert=0):\n",
    "    inputs = torch.stack(images)\n",
    "    inputs = torch.clamp(inputs + pert, \n",
    "                         min=inputs.amin(dim=(0, 2, 3), keepdim=True), \n",
    "                         max=inputs.amax(dim=(0, 2, 3), keepdim=True))\n",
    "    return net(inputs).argmax(dim=1).tolist(), inputs\n",
    "\n",
    "preds, _ = predict()\n",
    "print('(gt, pred):', *zip(labels, preds))\n",
    "\n",
    "budgetdir = expdir.joinpath('budgets')\n",
    "budgets = sorted(os.listdir(budgetdir))\n",
    "print(budgets)\n",
    "num_budgets = len(budgets) + 1\n",
    "\n",
    "plt.figure(figsize=(num_budgets * 1.5, 4.5))\n",
    "\n",
    "ax = plt.subplot(2, num_budgets, 1)\n",
    "ax.set_title(f'(0.00%)\\npred = {preds[0]}')\n",
    "ax.imshow(to_pil_image(images[0]), cmap='gray')\n",
    "ax.set_axis_off()\n",
    "ax = plt.subplot(2, num_budgets, num_budgets + 1)\n",
    "ax.set_title(f'pred = {preds[1]}')\n",
    "ax.imshow(to_pil_image(images[1]), cmap='gray')\n",
    "ax.set_axis_off()\n",
    "\n",
    "for i, budget in enumerate(budgets, start=2):\n",
    "    filename = budgetdir.joinpath(budget, 'ckpt.pth')\n",
    "    ckpt = torch.load(filename)\n",
    "    fr = ckpt['fr']\n",
    "    uap = ckpt['uap']\n",
    "    adv_preds, adv_images = predict(uap)\n",
    "    \n",
    "    adv_images.shape\n",
    "    ax = plt.subplot(2, num_budgets, i)\n",
    "    ax.set_title(f'({fr:.2f}%)\\npred = {adv_preds[0]}')\n",
    "    ax.imshow(to_pil_image(adv_images[0]), cmap='gray')\n",
    "    ax.set_axis_off()\n",
    "    ax = plt.subplot(2, num_budgets, num_budgets+i)\n",
    "    ax.set_title(f'pred = {adv_preds[1]}')\n",
    "    ax.imshow(to_pil_image(adv_images[1]), cmap='gray')\n",
    "    ax.set_axis_off()\n",
    "\n",
    "plt.tight_layout()\n",
    "plt.savefig('vis/mnist_budget.pdf')\n",
    "plt.savefig('vis/mnist_budget.png')\n",
    "plt.show()"
   ]
  },
  {
   "cell_type": "code",
   "execution_count": 11,
   "metadata": {},
   "outputs": [
    {
     "name": "stderr",
     "output_type": "stream",
     "text": [
      "/tmp/ipykernel_36095/271241441.py:2: UserWarning: To copy construct from a tensor, it is recommended to use sourceTensor.clone().detach() or sourceTensor.clone().detach().requires_grad_(True), rather than torch.tensor(sourceTensor).\n",
      "  gt = torch.tensor(dataset.targets)\n"
     ]
    },
    {
     "data": {
      "application/vnd.jupyter.widget-view+json": {
       "model_id": "d22b77e029304376a0e147c15e2e8c1a",
       "version_major": 2,
       "version_minor": 0
      },
      "text/plain": [
       "  0%|          | 0/10 [00:00<?, ?it/s]"
      ]
     },
     "metadata": {},
     "output_type": "display_data"
    }
   ],
   "source": [
    "loader = DataLoader(dataset, batch_size=1024)\n",
    "gt = torch.tensor(dataset.targets)\n",
    "all_cln_preds = []\n",
    "all_adv_preds = []\n",
    "for img, _ in tqdm(loader):\n",
    "    inputs = torch.clamp(img + uap, \n",
    "                         min=img.amin(dim=(0, 2, 3), keepdim=True), \n",
    "                         max=img.amax(dim=(0, 2, 3), keepdim=True))\n",
    "    all_cln_preds.append(net(img).argmax(dim=1))\n",
    "    all_adv_preds.append(net(inputs).argmax(dim=1))\n",
    "all_cln_preds = torch.cat(all_cln_preds)\n",
    "all_adv_preds = torch.cat(all_adv_preds)"
   ]
  },
  {
   "cell_type": "code",
   "execution_count": 24,
   "metadata": {},
   "outputs": [
    {
     "data": {
      "text/html": [
       "<div>\n",
       "<style scoped>\n",
       "    .dataframe tbody tr th:only-of-type {\n",
       "        vertical-align: middle;\n",
       "    }\n",
       "\n",
       "    .dataframe tbody tr th {\n",
       "        vertical-align: top;\n",
       "    }\n",
       "\n",
       "    .dataframe thead th {\n",
       "        text-align: right;\n",
       "    }\n",
       "</style>\n",
       "<table border=\"1\" class=\"dataframe\">\n",
       "  <thead>\n",
       "    <tr style=\"text-align: right;\">\n",
       "      <th></th>\n",
       "      <th>i</th>\n",
       "      <th>y</th>\n",
       "      <th>y_hat</th>\n",
       "    </tr>\n",
       "  </thead>\n",
       "  <tbody>\n",
       "    <tr>\n",
       "      <th>0</th>\n",
       "      <td>782</td>\n",
       "      <td>3</td>\n",
       "      <td>5</td>\n",
       "    </tr>\n",
       "    <tr>\n",
       "      <th>1</th>\n",
       "      <td>1748</td>\n",
       "      <td>0</td>\n",
       "      <td>6</td>\n",
       "    </tr>\n",
       "    <tr>\n",
       "      <th>2</th>\n",
       "      <td>2162</td>\n",
       "      <td>5</td>\n",
       "      <td>3</td>\n",
       "    </tr>\n",
       "    <tr>\n",
       "      <th>3</th>\n",
       "      <td>3011</td>\n",
       "      <td>7</td>\n",
       "      <td>6</td>\n",
       "    </tr>\n",
       "    <tr>\n",
       "      <th>4</th>\n",
       "      <td>4102</td>\n",
       "      <td>7</td>\n",
       "      <td>0</td>\n",
       "    </tr>\n",
       "    <tr>\n",
       "      <th>5</th>\n",
       "      <td>4391</td>\n",
       "      <td>7</td>\n",
       "      <td>4</td>\n",
       "    </tr>\n",
       "    <tr>\n",
       "      <th>6</th>\n",
       "      <td>4397</td>\n",
       "      <td>3</td>\n",
       "      <td>5</td>\n",
       "    </tr>\n",
       "    <tr>\n",
       "      <th>7</th>\n",
       "      <td>4735</td>\n",
       "      <td>9</td>\n",
       "      <td>4</td>\n",
       "    </tr>\n",
       "    <tr>\n",
       "      <th>8</th>\n",
       "      <td>4910</td>\n",
       "      <td>9</td>\n",
       "      <td>4</td>\n",
       "    </tr>\n",
       "    <tr>\n",
       "      <th>9</th>\n",
       "      <td>5450</td>\n",
       "      <td>0</td>\n",
       "      <td>6</td>\n",
       "    </tr>\n",
       "    <tr>\n",
       "      <th>10</th>\n",
       "      <td>6723</td>\n",
       "      <td>4</td>\n",
       "      <td>6</td>\n",
       "    </tr>\n",
       "    <tr>\n",
       "      <th>11</th>\n",
       "      <td>6734</td>\n",
       "      <td>4</td>\n",
       "      <td>6</td>\n",
       "    </tr>\n",
       "    <tr>\n",
       "      <th>12</th>\n",
       "      <td>6759</td>\n",
       "      <td>4</td>\n",
       "      <td>6</td>\n",
       "    </tr>\n",
       "    <tr>\n",
       "      <th>13</th>\n",
       "      <td>6780</td>\n",
       "      <td>4</td>\n",
       "      <td>6</td>\n",
       "    </tr>\n",
       "    <tr>\n",
       "      <th>14</th>\n",
       "      <td>7818</td>\n",
       "      <td>4</td>\n",
       "      <td>6</td>\n",
       "    </tr>\n",
       "    <tr>\n",
       "      <th>15</th>\n",
       "      <td>7910</td>\n",
       "      <td>4</td>\n",
       "      <td>6</td>\n",
       "    </tr>\n",
       "    <tr>\n",
       "      <th>16</th>\n",
       "      <td>8490</td>\n",
       "      <td>0</td>\n",
       "      <td>6</td>\n",
       "    </tr>\n",
       "    <tr>\n",
       "      <th>17</th>\n",
       "      <td>8513</td>\n",
       "      <td>0</td>\n",
       "      <td>6</td>\n",
       "    </tr>\n",
       "    <tr>\n",
       "      <th>18</th>\n",
       "      <td>8974</td>\n",
       "      <td>7</td>\n",
       "      <td>6</td>\n",
       "    </tr>\n",
       "    <tr>\n",
       "      <th>19</th>\n",
       "      <td>9172</td>\n",
       "      <td>7</td>\n",
       "      <td>4</td>\n",
       "    </tr>\n",
       "    <tr>\n",
       "      <th>20</th>\n",
       "      <td>9522</td>\n",
       "      <td>7</td>\n",
       "      <td>4</td>\n",
       "    </tr>\n",
       "  </tbody>\n",
       "</table>\n",
       "</div>"
      ],
      "text/plain": [
       "       i  y  y_hat\n",
       "0    782  3      5\n",
       "1   1748  0      6\n",
       "2   2162  5      3\n",
       "3   3011  7      6\n",
       "4   4102  7      0\n",
       "5   4391  7      4\n",
       "6   4397  3      5\n",
       "7   4735  9      4\n",
       "8   4910  9      4\n",
       "9   5450  0      6\n",
       "10  6723  4      6\n",
       "11  6734  4      6\n",
       "12  6759  4      6\n",
       "13  6780  4      6\n",
       "14  7818  4      6\n",
       "15  7910  4      6\n",
       "16  8490  0      6\n",
       "17  8513  0      6\n",
       "18  8974  7      6\n",
       "19  9172  7      4\n",
       "20  9522  7      4"
      ]
     },
     "execution_count": 24,
     "metadata": {},
     "output_type": "execute_result"
    }
   ],
   "source": [
    "import pandas as pd\n",
    "\n",
    "initial_correct = torch.eq(all_cln_preds, gt)  # Mask for initially correct classifications\n",
    "misclassified = torch.ne(all_adv_preds, gt)  # Mask for misclassified instances after the attack\n",
    "not_2_or_8 = torch.logical_and(torch.ne(all_adv_preds, 2), torch.ne(all_adv_preds, 8))  # Mask for attack results not equal to 2 or 8\n",
    "\n",
    "indices = torch.nonzero(torch.logical_and(torch.logical_and(initial_correct, misclassified), not_2_or_8)).squeeze()\n",
    "pd.DataFrame(torch.stack([indices, gt[indices], all_adv_preds[indices]], dim=1), \n",
    "             columns=['i', 'y', 'y_hat'])"
   ]
  }
 ],
 "metadata": {
  "kernelspec": {
   "display_name": "torch-env",
   "language": "python",
   "name": "python3"
  },
  "language_info": {
   "codemirror_mode": {
    "name": "ipython",
    "version": 3
   },
   "file_extension": ".py",
   "mimetype": "text/x-python",
   "name": "python",
   "nbconvert_exporter": "python",
   "pygments_lexer": "ipython3",
   "version": "3.9.15"
  },
  "orig_nbformat": 4
 },
 "nbformat": 4,
 "nbformat_minor": 2
}
